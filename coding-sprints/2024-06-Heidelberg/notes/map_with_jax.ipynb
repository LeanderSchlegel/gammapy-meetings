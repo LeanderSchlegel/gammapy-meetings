{
 "cells": [
  {
   "cell_type": "code",
   "execution_count": 1,
   "id": "a11ab210-1051-4cfc-ba7f-0d730bdaee16",
   "metadata": {},
   "outputs": [],
   "source": [
    "from gammapy.maps import Map, WcsGeom, MapAxis, WcsNDMap\n",
    "import jax.numpy as jnp\n",
    "import numpy as np\n",
    "import astropy.units as u\n",
    "from gammapy.maps.core import USE_JAX\n",
    "\n",
    "NP = jnp if USE_JAX else np "
   ]
  },
  {
   "cell_type": "code",
   "execution_count": 2,
   "id": "99b83da2-a450-43a1-8689-a05e183c8262",
   "metadata": {},
   "outputs": [],
   "source": [
    "axis_1 = MapAxis.from_edges([1, 2, 3, 4, 5], name=\"test\")\n",
    "geom = WcsGeom.create(skydir=(0,0), npix=10, proj='CAR', axes=[axis_1])\n",
    "geom_allsky = WcsGeom.create(proj='AIT', axes=[axis_1])\n"
   ]
  },
  {
   "cell_type": "markdown",
   "id": "65b050da-891a-438b-a1f2-603b13f5d7c7",
   "metadata": {},
   "source": [
    "### Map creation"
   ]
  },
  {
   "cell_type": "code",
   "execution_count": 3,
   "id": "96b470e6-ff74-4939-93c0-a47eb346dd10",
   "metadata": {},
   "outputs": [],
   "source": [
    "m1 = Map.from_geom(geom, data=3600, unit=\"s\")\n",
    "m2 = Map.from_geom(geom, data=1, unit=\"m2\" )\n",
    "m3 = Map.from_geom(geom, data=1, unit=\"cm2\" )\n",
    "m_allsky = Map.from_geom(geom_allsky)"
   ]
  },
  {
   "cell_type": "code",
   "execution_count": 4,
   "id": "3d7a9622-d42f-4519-bf53-a8ae95f90d53",
   "metadata": {},
   "outputs": [
    {
     "name": "stdout",
     "output_type": "stream",
     "text": [
      "<class 'jaxlib.xla_extension.ArrayImpl'>\n",
      "<class 'jaxlib.xla_extension.ArrayImpl'>\n",
      "<class 'jaxlib.xla_extension.ArrayImpl'>\n"
     ]
    }
   ],
   "source": [
    "print(m1.data.__class__)\n",
    "print(m2.data.__class__)\n",
    "print(m_allsky.data.__class__)"
   ]
  },
  {
   "cell_type": "markdown",
   "id": "a75c4b90-57bd-4ccf-93a6-231b17e84e0e",
   "metadata": {},
   "source": [
    "### Map Operation"
   ]
  },
  {
   "cell_type": "code",
   "execution_count": 5,
   "id": "b2ee50bf-8a0b-4d3c-8d26-7b1ffc7f6c16",
   "metadata": {},
   "outputs": [
    {
     "name": "stdout",
     "output_type": "stream",
     "text": [
      "WcsNDMap\n",
      "\n",
      "\tgeom  : WcsGeom \n",
      " \taxes  : ['lon', 'lat', 'test']\n",
      "\tshape : (10, 10, 4)\n",
      "\tndim  : 3\n",
      "\tunit  : m2 s\n",
      "\tdtype : int64\n",
      "\n",
      "<class 'jaxlib.xla_extension.ArrayImpl'>\n"
     ]
    }
   ],
   "source": [
    "expo = m1*m2\n",
    "print(expo)\n",
    "print(expo.data.__class__)"
   ]
  },
  {
   "cell_type": "code",
   "execution_count": 6,
   "id": "7b387f52-dfe1-4a3b-995f-70ee525f8999",
   "metadata": {},
   "outputs": [
    {
     "name": "stdout",
     "output_type": "stream",
     "text": [
      "[1.0001 1.0001 1.0001 1.0001 1.0001 1.0001 1.0001 1.0001 1.0001 1.0001] m2\n",
      "<class 'jaxlib.xla_extension.ArrayImpl'>\n"
     ]
    }
   ],
   "source": [
    "m4 = m2 + m3\n",
    "print(m4.quantity[0,0])\n",
    "print(m4.data.__class__)"
   ]
  },
  {
   "cell_type": "code",
   "execution_count": 7,
   "id": "7459e37b-5438-4de2-81bc-feb4d6dc2328",
   "metadata": {},
   "outputs": [
    {
     "name": "stdout",
     "output_type": "stream",
     "text": [
      "<class 'jaxlib.xla_extension.ArrayImpl'>\n"
     ]
    }
   ],
   "source": [
    "mask = m1>1*u.d\n",
    "print(mask.data.__class__)"
   ]
  },
  {
   "cell_type": "markdown",
   "id": "a79c0f61-f844-4285-b378-330334fbbb25",
   "metadata": {},
   "source": [
    "### Other operations"
   ]
  },
  {
   "cell_type": "code",
   "execution_count": 8,
   "id": "2319c534-e73f-4779-b469-b3c52e2f426a",
   "metadata": {},
   "outputs": [
    {
     "name": "stdout",
     "output_type": "stream",
     "text": [
      "<class 'jaxlib.xla_extension.ArrayImpl'>\n"
     ]
    }
   ],
   "source": [
    "# Cutout\n",
    "mcut = m1.cutout(geom.center_skydir, 2*u.deg)\n",
    "print(mcut.data.__class__)"
   ]
  },
  {
   "cell_type": "code",
   "execution_count": 9,
   "id": "3260b043-c284-4c44-ac93-95a2b995225d",
   "metadata": {},
   "outputs": [
    {
     "name": "stdout",
     "output_type": "stream",
     "text": [
      "<class 'jaxlib.xla_extension.ArrayImpl'>\n"
     ]
    }
   ],
   "source": [
    "# Resample axis\n",
    "m_resample = m1.resample_axis(axis_1.downsample(2))\n",
    "print(m_resample.data.__class__)"
   ]
  },
  {
   "cell_type": "code",
   "execution_count": 10,
   "id": "0c1af7d2-fc91-45a9-a1aa-326a711085a8",
   "metadata": {},
   "outputs": [
    {
     "data": {
      "text/plain": [
       "Array(True, dtype=bool)"
      ]
     },
     "execution_count": 10,
     "metadata": {},
     "output_type": "execute_result"
    }
   ],
   "source": [
    "# Stack\n",
    "m1.stack(mcut)\n",
    "m1.data[0,5,5]==7200"
   ]
  },
  {
   "cell_type": "markdown",
   "id": "21493243-ab15-4b0c-bc90-694f06643ce4",
   "metadata": {},
   "source": [
    "### Accessing/setting elements\n",
    "\n",
    "#### By pixels coordinates"
   ]
  },
  {
   "cell_type": "code",
   "execution_count": 11,
   "id": "c7245aeb-5253-472e-a3d7-9bcd3bb674d4",
   "metadata": {},
   "outputs": [
    {
     "name": "stdout",
     "output_type": "stream",
     "text": [
      "<class 'jaxlib.xla_extension.ArrayImpl'>\n"
     ]
    }
   ],
   "source": [
    "pix = m1.geom.get_pix()\n",
    "print(m1.get_by_pix(pix).__class__)"
   ]
  },
  {
   "cell_type": "code",
   "execution_count": 12,
   "id": "cb3d35d6-69f6-4f3c-81e1-a02175af2a71",
   "metadata": {},
   "outputs": [
    {
     "name": "stdout",
     "output_type": "stream",
     "text": [
      "<class 'jaxlib.xla_extension.ArrayImpl'>\n"
     ]
    },
    {
     "name": "stderr",
     "output_type": "stream",
     "text": [
      "/Users/terrier/Code/mambaforge/envs/gammapy-dev-jax/lib/python3.11/site-packages/jax/_src/ops/scatter.py:96: FutureWarning: scatter inputs have incompatible types: cannot safely cast value from dtype=float64 to dtype=int64 with jax_numpy_dtype_promotion='standard'. In future JAX releases this will result in an error.\n",
      "  warnings.warn(\n"
     ]
    }
   ],
   "source": [
    "vals = NP.ones_like(pix[0], dtype=NP.float64)\n",
    "m1.set_by_pix(pix, vals)\n",
    "print(m1.data.__class__)"
   ]
  },
  {
   "cell_type": "markdown",
   "id": "7d7e8780-6cc7-4a26-a34a-19943e498442",
   "metadata": {},
   "source": [
    "#### by coord"
   ]
  },
  {
   "cell_type": "code",
   "execution_count": 13,
   "id": "1fac1836-d392-47d2-aea8-e1bdcd15b5ab",
   "metadata": {},
   "outputs": [
    {
     "name": "stdout",
     "output_type": "stream",
     "text": [
      "<class 'jaxlib.xla_extension.ArrayImpl'>\n"
     ]
    }
   ],
   "source": [
    "coords = m1.geom.get_coord()\n",
    "print(m1.get_by_coord(coords, coords[0]).__class__)"
   ]
  },
  {
   "cell_type": "code",
   "execution_count": 14,
   "id": "0739024c-6a96-4a57-90f8-d6aee39d4943",
   "metadata": {},
   "outputs": [
    {
     "data": {
      "text/plain": [
       "Array([2, 2, 2, 2, 2, 2, 2, 2, 2, 2], dtype=int64)"
      ]
     },
     "execution_count": 14,
     "metadata": {},
     "output_type": "execute_result"
    }
   ],
   "source": [
    "vals *= 2\n",
    "m1.set_by_coord(coords, vals)\n",
    "m1.data[0,0]"
   ]
  },
  {
   "cell_type": "markdown",
   "id": "40de4c68-c9ee-4be8-90a9-f0d2ac2a5c0a",
   "metadata": {},
   "source": [
    "#### With AIT projection?"
   ]
  },
  {
   "cell_type": "code",
   "execution_count": 15,
   "id": "0548d012-f8c3-4079-864f-3d31c0bee571",
   "metadata": {},
   "outputs": [
    {
     "name": "stdout",
     "output_type": "stream",
     "text": [
      "<class 'jaxlib.xla_extension.ArrayImpl'>\n"
     ]
    },
    {
     "data": {
      "text/plain": [
       "Array(True, dtype=bool)"
      ]
     },
     "execution_count": 15,
     "metadata": {},
     "output_type": "execute_result"
    }
   ],
   "source": [
    "coords = m_allsky.geom.get_coord()\n",
    "vals = m_allsky.get_by_coord(coords)\n",
    "print(vals.__class__)\n",
    "NP.isnan(vals[0,0,0])"
   ]
  },
  {
   "cell_type": "code",
   "execution_count": 16,
   "id": "759d5e43-4088-490c-bbba-81e54ac5a89b",
   "metadata": {},
   "outputs": [],
   "source": [
    "## This does not work\n",
    "vals = NP.ones_like(coords['lat'], dtype=NP.float32) * 2\n",
    "m_allsky.set_by_coord(coords, vals)"
   ]
  },
  {
   "cell_type": "markdown",
   "id": "da1992ba-6037-483b-bdc2-45185f00f6bd",
   "metadata": {},
   "source": [
    "### Convolution?"
   ]
  },
  {
   "cell_type": "code",
   "execution_count": 17,
   "id": "cf7b9325-8cac-4129-ac84-5be58dd681c8",
   "metadata": {},
   "outputs": [],
   "source": [
    "m1 = Map.from_geom(geom, data=0, unit=\"s\")"
   ]
  },
  {
   "cell_type": "code",
   "execution_count": 18,
   "id": "68994a0f-42ef-4ace-a0b7-37f31c4a62bd",
   "metadata": {},
   "outputs": [],
   "source": [
    "m1.set_by_coord({'lon':0.*u.deg, 'lat':0.*u.deg, 'test':2}, 1)"
   ]
  },
  {
   "cell_type": "code",
   "execution_count": 20,
   "id": "e0b555dc-c602-4533-8b61-e33435e5e873",
   "metadata": {},
   "outputs": [
    {
     "data": {
      "text/plain": [
       "numpy.ndarray"
      ]
     },
     "execution_count": 20,
     "metadata": {},
     "output_type": "execute_result"
    }
   ],
   "source": [
    "# Returns a ndarray\n",
    "m1.smooth(\"0.3 deg\").data.__class__"
   ]
  },
  {
   "cell_type": "code",
   "execution_count": null,
   "id": "59a12407-8568-472a-bf33-b0ed11ce7940",
   "metadata": {},
   "outputs": [],
   "source": []
  }
 ],
 "metadata": {
  "kernelspec": {
   "display_name": "Python 3 (ipykernel)",
   "language": "python",
   "name": "python3"
  },
  "language_info": {
   "codemirror_mode": {
    "name": "ipython",
    "version": 3
   },
   "file_extension": ".py",
   "mimetype": "text/x-python",
   "name": "python",
   "nbconvert_exporter": "python",
   "pygments_lexer": "ipython3",
   "version": "3.11.9"
  }
 },
 "nbformat": 4,
 "nbformat_minor": 5
}
