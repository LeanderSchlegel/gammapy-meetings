{
 "cells": [
  {
   "cell_type": "markdown",
   "metadata": {},
   "source": [
    "# Gamma-ray Analysis from Scratch with Jax\n",
    "\n",
    "This notebook implements a simple high level gamma-ray analysis from scratch using Jax. The goal is to make simple performance comparisons between Jax and Numpy\n",
    "and gain some experience with Jax."
   ]
  },
  {
   "cell_type": "code",
   "execution_count": 25,
   "metadata": {},
   "outputs": [],
   "source": [
    "import numpy as np\n",
    "\n",
    "import jax\n",
    "import jax.numpy as jnp\n",
    "from jax.scipy.optimize import minimize as minimize_jax\n",
    "\n",
    "from gammapy.datasets import MapDataset\n",
    "from regions import CircleSkyRegion\n",
    "from astropy import units as u\n",
    "\n",
    "from iminuit import minimize as minimize_iminuit\n",
    "from iminuit import Minuit\n",
    "\n",
    "jax.config.update(\"jax_enable_x64\", True)"
   ]
  },
  {
   "cell_type": "code",
   "execution_count": 2,
   "metadata": {},
   "outputs": [],
   "source": [
    "_TINY_FLOAT = np.finfo(float).tiny\n",
    "\n",
    "FLUX_FACTOR = 1e-8\n",
    "\n",
    "\n",
    "def _safe_log(x):\n",
    "    return jnp.log(jnp.maximum(_TINY_FLOAT, x))\n",
    "\n",
    "\n",
    "def cash_stat(counts, npred):\n",
    "    \"\"\"Cash statistic\n",
    "    \n",
    "    Implementation copied taken from https://github.com/scikit-hep/iminuit/blob/main/src/iminuit/cost.py#L304\n",
    "    \"\"\"\n",
    "    return 2 * np.sum(npred - counts + counts * (_safe_log(counts) - _safe_log(npred)))\n",
    "\n",
    "\n",
    "def compute_npred(flux, exposure, background, edisp, psf=None):\n",
    "    \"\"\"Computation of predicted number of counts for a given flux\"\"\"\n",
    "    npred = flux * exposure\n",
    "\n",
    "    # dot sums over the last axis by convention and gammapy uses energy as first axis\n",
    "    # so we have to transpose the npred array\n",
    "    npred = jnp.dot(npred.T, edisp).T \n",
    "    return npred + background\n",
    "\n",
    "\n",
    "def integrate_power_law(amplitude, index, x_min, x_max):\n",
    "    \"\"\"Integrate power law analytically\"\"\"\n",
    "    return amplitude * (x_max ** (1 - index) - x_min ** (1 - index)) / (1 - index)\n",
    "\n",
    "\n",
    "def to_jax_dataset_dict(dataset):\n",
    "    \"\"\"Convert a `MapDataset` to a dictionary of JAX arrays\"\"\"\n",
    "    edisp_gp = dataset.edisp.get_edisp_kernel()\n",
    "\n",
    "    energy_edges_true = jnp.array(dataset.exposure.geom.axes[\"energy_true\"].edges)\n",
    "    \n",
    "    return {\n",
    "        \"counts\": jnp.array(dataset.counts.data),\n",
    "        \"exposure\": jnp.array(dataset.exposure.data),\n",
    "        \"background\": jnp.array(dataset.background.data),\n",
    "        \"edisp\": jnp.array(edisp_gp.data),\n",
    "        \"energy_edges_true\": energy_edges_true[:, None, None],\n",
    "    }\n",
    "   \n",
    "\n",
    "def point_source():\n",
    "    pass\n"
   ]
  },
  {
   "cell_type": "code",
   "execution_count": 3,
   "metadata": {},
   "outputs": [],
   "source": [
    "dataset = MapDataset.read(\"$GAMMAPY_DATA/cta-1dc-gc/cta-1dc-gc.fits.gz\", name=\"dataset-cta\")\n",
    "\n",
    "region = CircleSkyRegion(\n",
    "    center=dataset.counts.geom.center_skydir,\n",
    "    radius=0.1 * u.deg\n",
    ")\n",
    "spectrum_dataset = dataset.to_spectrum_dataset(on_region=region)"
   ]
  },
  {
   "cell_type": "code",
   "execution_count": 4,
   "metadata": {},
   "outputs": [],
   "source": [
    "jax_data = to_jax_dataset_dict(spectrum_dataset)"
   ]
  },
  {
   "cell_type": "code",
   "execution_count": 46,
   "metadata": {},
   "outputs": [],
   "source": [
    "def loss(x0,  counts, exposure, background, edisp, energy_edges_true, psf=None):\n",
    "    \"\"\"Loss function to minimize\"\"\"\n",
    "    amplitude, index = x0\n",
    "    x_min, x_max = energy_edges_true[:-1], energy_edges_true[1:]\n",
    "    flux = integrate_power_law(FLUX_FACTOR * amplitude, index, x_min=x_min, x_max=x_max)\n",
    "    npred = compute_npred(flux, exposure, background, edisp)\n",
    "    stat = cash_stat(counts, npred)\n",
    "    #jax.debug.print(\"stat: {} {} {}\", stat, amplitude, index)\n",
    "    return stat\n",
    "\n",
    "\n",
    "def loss_iminuit(x):\n",
    "    \"\"\"Wrapper to use `iminuit` with JAX\"\"\"\n",
    "    return loss(x0=jnp.array(x), **jax_data)"
   ]
  },
  {
   "cell_type": "markdown",
   "metadata": {},
   "source": [
    "### Jax Fit"
   ]
  },
  {
   "cell_type": "code",
   "execution_count": 26,
   "metadata": {},
   "outputs": [],
   "source": [
    "result_jax = minimize_jax(loss, x0=jnp.array([0.1, 2]), args=tuple(jax_data.values()), method=\"BFGS\")"
   ]
  },
  {
   "cell_type": "code",
   "execution_count": 27,
   "metadata": {},
   "outputs": [
    {
     "name": "stdout",
     "output_type": "stream",
     "text": [
      "Best fit pars jax: ampl=1.83, index=2.17\n",
      "Stat val jax: 20.40\n"
     ]
    }
   ],
   "source": [
    "print(f\"Best fit pars jax: ampl={result_jax.x[0]:.2f}, index={result_jax.x[1]:.2f}\")\n",
    "print(f\"Stat val jax: {result_jax.fun:.2f}\")"
   ]
  },
  {
   "cell_type": "markdown",
   "metadata": {},
   "source": [
    "### IMinuit Fit"
   ]
  },
  {
   "cell_type": "code",
   "execution_count": 30,
   "metadata": {},
   "outputs": [],
   "source": [
    "result_minuit = minimize_iminuit(loss, x0=jnp.array([0.1, 2]), args=tuple(jax_data.values()))"
   ]
  },
  {
   "cell_type": "code",
   "execution_count": 32,
   "metadata": {},
   "outputs": [
    {
     "name": "stdout",
     "output_type": "stream",
     "text": [
      "Best fit pars minuit: ampl=1.83, index=2.17\n",
      "Stat val minuit: 20.40\n"
     ]
    }
   ],
   "source": [
    "print(f\"Best fit pars minuit: ampl={result_minuit.x[0]:.2f}, index={result_minuit.x[1]:.2f}\")\n",
    "print(f\"Stat val minuit: {result_minuit.fun:.2f}\")"
   ]
  },
  {
   "cell_type": "markdown",
   "metadata": {},
   "source": [
    "### Performance Comparison"
   ]
  },
  {
   "cell_type": "code",
   "execution_count": 34,
   "metadata": {},
   "outputs": [],
   "source": [
    "loss_iminuit_jit = jax.jit(loss_iminuit)\n",
    "loss_jit = jax.jit(loss)"
   ]
  },
  {
   "cell_type": "code",
   "execution_count": 39,
   "metadata": {},
   "outputs": [],
   "source": [
    "# this triggers the jit compilation\n",
    "loss_jit((1, 2), **jax_data)\n",
    "loss_iminuit_jit((1, 2));"
   ]
  },
  {
   "cell_type": "code",
   "execution_count": 40,
   "metadata": {},
   "outputs": [
    {
     "name": "stdout",
     "output_type": "stream",
     "text": [
      "8.48 μs ± 52.2 ns per loop (mean ± std. dev. of 7 runs, 100,000 loops each)\n"
     ]
    }
   ],
   "source": [
    "%%timeit\n",
    "loss_jit((1, 2), **jax_data)"
   ]
  },
  {
   "cell_type": "code",
   "execution_count": 41,
   "metadata": {},
   "outputs": [
    {
     "name": "stdout",
     "output_type": "stream",
     "text": [
      "247 μs ± 11.4 μs per loop (mean ± std. dev. of 7 runs, 1,000 loops each)\n"
     ]
    }
   ],
   "source": [
    "%%timeit\n",
    "loss((1, 2), **jax_data)"
   ]
  },
  {
   "cell_type": "code",
   "execution_count": 44,
   "metadata": {},
   "outputs": [
    {
     "name": "stdout",
     "output_type": "stream",
     "text": [
      "22.5 ms ± 757 μs per loop (mean ± std. dev. of 7 runs, 10 loops each)\n"
     ]
    }
   ],
   "source": [
    "%%timeit\n",
    "result = minimize_iminuit(loss, x0=jnp.array([0.1, 2]), args=tuple(jax_data.values()))"
   ]
  },
  {
   "cell_type": "code",
   "execution_count": 45,
   "metadata": {},
   "outputs": [
    {
     "name": "stdout",
     "output_type": "stream",
     "text": [
      "1.27 ms ± 5.23 μs per loop (mean ± std. dev. of 7 runs, 1,000 loops each)\n"
     ]
    }
   ],
   "source": [
    "%%timeit\n",
    "minuit = Minuit(loss_iminuit_jit, np.array([0.1, 2]))\n",
    "minuit.migrad()"
   ]
  },
  {
   "cell_type": "markdown",
   "metadata": {},
   "source": []
  }
 ],
 "metadata": {
  "kernelspec": {
   "display_name": "jax-intro",
   "language": "python",
   "name": "python3"
  },
  "language_info": {
   "codemirror_mode": {
    "name": "ipython",
    "version": 3
   },
   "file_extension": ".py",
   "mimetype": "text/x-python",
   "name": "python",
   "nbconvert_exporter": "python",
   "pygments_lexer": "ipython3",
   "version": "3.11.9"
  }
 },
 "nbformat": 4,
 "nbformat_minor": 2
}
